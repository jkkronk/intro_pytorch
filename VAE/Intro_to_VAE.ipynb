{
 "cells": [
  {
   "cell_type": "markdown",
   "metadata": {},
   "source": [
    "### Intro to Variational Autoencoders"
   ]
  },
  {
   "cell_type": "markdown",
   "metadata": {},
   "source": [
    "Bloggpost: https://pyro.ai/examples/vae.html\n",
    "\n",
    "pytorch MNIST: https://github.com/pytorch/examples/blob/master/vae/main.py#L45\n",
    "\n",
    "Good tutorial paper: https://arxiv.org/pdf/1606.05908.pdf"
   ]
  },
  {
   "cell_type": "markdown",
   "metadata": {},
   "source": [
    "### Imports"
   ]
  },
  {
   "cell_type": "code",
   "execution_count": 1,
   "metadata": {},
   "outputs": [],
   "source": [
    "import numpy as np\n",
    "import matplotlib.pyplot as plt\n",
    "%matplotlib inline\n",
    "\n",
    "import torch\n",
    "from torch import nn, optim\n",
    "from torch.nn import functional as F\n",
    "\n",
    "from torchvision import datasets, transforms\n",
    "from torchvision.utils import save_image\n",
    "\n",
    "import argparse\n",
    "import easydict"
   ]
  },
  {
   "cell_type": "markdown",
   "metadata": {},
   "source": [
    "### Parameters"
   ]
  },
  {
   "cell_type": "markdown",
   "metadata": {},
   "source": [
    "Set parameters for vae training here"
   ]
  },
  {
   "cell_type": "code",
   "execution_count": 2,
   "metadata": {},
   "outputs": [],
   "source": [
    "#parser = argparse.ArgumentParser(description='PyTorch MNIST Example')\n",
    "#parser.add_argument('--batch-size', type=int, default=64, metavar='N',\n",
    "#                        help='batch size (default: 64)')\n",
    "#args = parser.parse_args()\n",
    "\n",
    "args = easydict.EasyDict({\n",
    "    \"batch_size\": 64,\n",
    "    \"no_cuda\": False,\n",
    "    \"epochs\":8,\n",
    "    \"log_interval\":10\n",
    "})\n",
    "\n",
    "use_cuda = not args.no_cuda and torch.cuda.is_available()\n",
    "kwargs = {'num_workers': 1, 'pin_memory': True} if use_cuda else {}\n",
    "\n",
    "device = torch.device(\"cuda\" if use_cuda else \"cpu\")"
   ]
  },
  {
   "cell_type": "markdown",
   "metadata": {},
   "source": [
    "### Load data"
   ]
  },
  {
   "cell_type": "markdown",
   "metadata": {},
   "source": [
    "We use the MNIST dataset containing images of handwritten digits 1-9."
   ]
  },
  {
   "cell_type": "code",
   "execution_count": 3,
   "metadata": {},
   "outputs": [],
   "source": [
    "path = '/scratch/jonatank/data'"
   ]
  },
  {
   "cell_type": "code",
   "execution_count": 4,
   "metadata": {},
   "outputs": [],
   "source": [
    "train_loader = torch.utils.data.DataLoader(\n",
    "        datasets.MNIST(path, train=True, download=True, \n",
    "        transform=transforms.ToTensor()),\n",
    "        batch_size=args.batch_size, shuffle=True,\n",
    "        **kwargs)\n",
    "\n",
    "test_loader = torch.utils.data.DataLoader(\n",
    "        datasets.MNIST(path, train=False, download=True, \n",
    "        transform=transforms.ToTensor()),\n",
    "        batch_size=args.batch_size, shuffle=True, \n",
    "        **kwargs)"
   ]
  },
  {
   "cell_type": "code",
   "execution_count": 5,
   "metadata": {},
   "outputs": [
    {
     "data": {
      "text/plain": [
       "<matplotlib.image.AxesImage at 0x7f226b02ce10>"
      ]
     },
     "execution_count": 5,
     "metadata": {},
     "output_type": "execute_result"
    },
    {
     "data": {
      "image/png": "[encoded data removed]",
      "text/plain": [
       "<Figure size 432x288 with 1 Axes>"
      ]
     },
     "metadata": {
      "needs_background": "light"
     },
     "output_type": "display_data"
    }
   ],
   "source": [
    "plt.figure()\n",
    "plt.imshow(train_loader.dataset.data.numpy()[3])"
   ]
  },
  {
   "cell_type": "markdown",
   "metadata": {},
   "source": [
    "### Define VAE"
   ]
  },
  {
   "cell_type": "markdown",
   "metadata": {},
   "source": [
    "Below we build up VAE with encoder, decoder. "
   ]
  },
  {
   "cell_type": "code",
   "execution_count": 5,
   "metadata": {},
   "outputs": [],
   "source": [
    "class VAE(nn.Module):\n",
    "    def __init__(self):\n",
    "        super(VAE, self).__init__()\n",
    "\n",
    "        self.fc1 = nn.Linear(784, 400)\n",
    "        self.fc21 = nn.Linear(400, 20)\n",
    "        self.fc22 = nn.Linear(400, 20)\n",
    "        self.fc3 = nn.Linear(20, 400)\n",
    "        self.fc4 = nn.Linear(400, 784)\n",
    "\n",
    "    def encode(self, x):\n",
    "        h1 = F.relu(self.fc1(x))\n",
    "        return self.fc21(h1), self.fc22(h1)\n",
    "\n",
    "    def reparameterize(self, mu, logvar):\n",
    "        std = torch.exp(0.5*logvar)\n",
    "        eps = torch.randn_like(std)\n",
    "        return mu + eps*std\n",
    "\n",
    "    def decode(self, z):\n",
    "        h3 = F.relu(self.fc3(z))\n",
    "        return torch.sigmoid(self.fc4(h3))\n",
    "\n",
    "    def forward(self, x):\n",
    "        mu, logvar = self.encode(x.view(-1, 784))\n",
    "        z = self.reparameterize(mu, logvar)\n",
    "        return self.decode(z), mu, logvar"
   ]
  },
  {
   "cell_type": "markdown",
   "metadata": {},
   "source": [
    "### Init model and loss function"
   ]
  },
  {
   "cell_type": "code",
   "execution_count": 6,
   "metadata": {},
   "outputs": [],
   "source": [
    "model = VAE().to(device)\n",
    "optimizer = optim.Adam(model.parameters(), lr=1e-3)"
   ]
  },
  {
   "cell_type": "code",
   "execution_count": 7,
   "metadata": {},
   "outputs": [],
   "source": [
    "# Reconstruction + KL divergence losses summed over all elements and batch\n",
    "def loss_function(recon_x, x, mu, logvar):\n",
    "    BCE = F.binary_cross_entropy(recon_x, x.view(-1, 784), reduction='sum')\n",
    "\n",
    "    # see Appendix B from VAE paper:\n",
    "    # Kingma and Welling. Auto-Encoding Variational Bayes. ICLR, 2014\n",
    "    # https://arxiv.org/abs/1312.6114\n",
    "    # 0.5 * sum(1 + log(sigma^2) - mu^2 - sigma^2)\n",
    "    KLD = -0.5 * torch.sum(1 + logvar - mu.pow(2) - logvar.exp())\n",
    "\n",
    "    return BCE + KLD"
   ]
  },
  {
   "cell_type": "markdown",
   "metadata": {},
   "source": [
    "### Train and test functions for training"
   ]
  },
  {
   "cell_type": "code",
   "execution_count": 8,
   "metadata": {},
   "outputs": [],
   "source": [
    "def train(epoch):\n",
    "    model.train()\n",
    "    train_loss = 0\n",
    "    for batch_idx, (data, _) in enumerate(train_loader):\n",
    "        data = data.to(device)\n",
    "        optimizer.zero_grad()\n",
    "        recon_batch, mu, logvar = model(data)\n",
    "        loss = loss_function(recon_batch, data, mu, logvar)\n",
    "        loss.backward()\n",
    "        train_loss += loss.item()\n",
    "        optimizer.step()\n",
    "        if batch_idx % args.log_interval == 0:\n",
    "            print('Train Epoch: {} [{}/{} ({:.0f}%)]\\tLoss: {:.6f}'.format(\n",
    "                epoch, batch_idx * len(data), len(train_loader.dataset),\n",
    "                100. * batch_idx / len(train_loader),\n",
    "                loss.item() / len(data)))\n",
    "\n",
    "    print('====> Epoch: {} Average loss: {:.4f}'.format(\n",
    "          epoch, train_loss / len(train_loader.dataset)))"
   ]
  },
  {
   "cell_type": "code",
   "execution_count": 9,
   "metadata": {},
   "outputs": [],
   "source": [
    "def test(epoch):\n",
    "    model.eval()\n",
    "    test_loss = 0\n",
    "    with torch.no_grad():\n",
    "        for i, (data, _) in enumerate(test_loader):\n",
    "            data = data.to(device)\n",
    "            recon_batch, mu, logvar = model(data)\n",
    "            test_loss += loss_function(recon_batch, data, mu, logvar).item()\n",
    "            if i == 0:\n",
    "                n = min(data.size(0), 8)\n",
    "                comparison = torch.cat([data[:n],\n",
    "                                      recon_batch.view(args.batch_size, 1, 28, 28)[:n]])\n",
    "                #save_image(comparison.cpu(),\n",
    "                         #'reconstruction/' + str(epoch) + '.png', nrow=n)\n",
    "\n",
    "    test_loss /= len(test_loader.dataset)\n",
    "    print('====> Test set loss: {:.4f}'.format(test_loss))\n"
   ]
  },
  {
   "cell_type": "markdown",
   "metadata": {},
   "source": [
    "### Training "
   ]
  },
  {
   "cell_type": "markdown",
   "metadata": {},
   "source": [
    "Saving images after we learn."
   ]
  },
  {
   "cell_type": "code",
   "execution_count": 10,
   "metadata": {
    "scrolled": true
   },
   "outputs": [
    {
     "name": "stderr",
     "output_type": "stream",
     "text": [
      "/opt/conda/conda-bld/pytorch_1579162725830/work/torch/csrc/autograd/generated/python_variable_methods.cpp:1334: UserWarning: This overload of add_ is deprecated:\n",
      "add_(Number alpha, Tensor other)\n",
      "Consider using one of the following signatures instead:\n",
      "add_(Tensor other, Number alpha)\n",
      "/opt/conda/conda-bld/pytorch_1579162725830/work/torch/csrc/autograd/generated/python_variable_methods.cpp:1550: UserWarning: This overload of addcmul_ is deprecated:\n",
      "addcmul_(Number value, Tensor tensor1, Tensor tensor2)\n",
      "Consider using one of the following signatures instead:\n",
      "addcmul_(Tensor tensor1, Tensor tensor2, Number value)\n",
      "/opt/conda/conda-bld/pytorch_1579162725830/work/torch/csrc/autograd/generated/python_variable_methods.cpp:1480: UserWarning: This overload of addcdiv_ is deprecated:\n",
      "addcdiv_(Number value, Tensor tensor1, Tensor tensor2)\n",
      "Consider using one of the following signatures instead:\n",
      "addcdiv_(Tensor tensor1, Tensor tensor2, Number value)\n"
     ]
    },
    {
     "name": "stdout",
     "output_type": "stream",
     "text": [
      "Train Epoch: 1 [0/60000 (0%)]\tLoss: 551.309631\n",
      "Train Epoch: 1 [640/60000 (1%)]\tLoss: 299.996490\n",
      "Train Epoch: 1 [1280/60000 (2%)]\tLoss: 230.514633\n",
      "Train Epoch: 1 [1920/60000 (3%)]\tLoss: 212.786179\n",
      "Train Epoch: 1 [2560/60000 (4%)]\tLoss: 223.935303\n",
      "Train Epoch: 1 [3200/60000 (5%)]\tLoss: 210.615112\n",
      "Train Epoch: 1 [3840/60000 (6%)]\tLoss: 200.373581\n",
      "Train Epoch: 1 [4480/60000 (7%)]\tLoss: 193.446976\n",
      "Train Epoch: 1 [5120/60000 (9%)]\tLoss: 204.555710\n",
      "Train Epoch: 1 [5760/60000 (10%)]\tLoss: 194.674881\n",
      "Train Epoch: 1 [6400/60000 (11%)]\tLoss: 176.489700\n",
      "Train Epoch: 1 [7040/60000 (12%)]\tLoss: 174.343323\n",
      "Train Epoch: 1 [7680/60000 (13%)]\tLoss: 172.876404\n",
      "Train Epoch: 1 [8320/60000 (14%)]\tLoss: 177.532242\n",
      "Train Epoch: 1 [8960/60000 (15%)]\tLoss: 168.231674\n",
      "Train Epoch: 1 [9600/60000 (16%)]\tLoss: 175.972824\n",
      "Train Epoch: 1 [10240/60000 (17%)]\tLoss: 170.967667\n",
      "Train Epoch: 1 [10880/60000 (18%)]\tLoss: 172.618484\n",
      "Train Epoch: 1 [11520/60000 (19%)]\tLoss: 160.509949\n",
      "Train Epoch: 1 [12160/60000 (20%)]\tLoss: 156.742691\n",
      "Train Epoch: 1 [12800/60000 (21%)]\tLoss: 153.993179\n",
      "Train Epoch: 1 [13440/60000 (22%)]\tLoss: 143.506683\n",
      "Train Epoch: 1 [14080/60000 (23%)]\tLoss: 148.255386\n",
      "Train Epoch: 1 [14720/60000 (25%)]\tLoss: 155.919815\n",
      "Train Epoch: 1 [15360/60000 (26%)]\tLoss: 159.396133\n",
      "Train Epoch: 1 [16000/60000 (27%)]\tLoss: 150.642395\n",
      "Train Epoch: 1 [16640/60000 (28%)]\tLoss: 147.804276\n",
      "Train Epoch: 1 [17280/60000 (29%)]\tLoss: 149.559250\n",
      "Train Epoch: 1 [17920/60000 (30%)]\tLoss: 155.316223\n",
      "Train Epoch: 1 [18560/60000 (31%)]\tLoss: 142.991852\n",
      "Train Epoch: 1 [19200/60000 (32%)]\tLoss: 148.256470\n",
      "Train Epoch: 1 [19840/60000 (33%)]\tLoss: 139.948715\n",
      "Train Epoch: 1 [20480/60000 (34%)]\tLoss: 140.819794\n",
      "Train Epoch: 1 [21120/60000 (35%)]\tLoss: 144.043976\n",
      "Train Epoch: 1 [21760/60000 (36%)]\tLoss: 142.725311\n",
      "Train Epoch: 1 [22400/60000 (37%)]\tLoss: 148.551315\n",
      "Train Epoch: 1 [23040/60000 (38%)]\tLoss: 138.452271\n",
      "Train Epoch: 1 [23680/60000 (39%)]\tLoss: 141.847183\n",
      "Train Epoch: 1 [24320/60000 (41%)]\tLoss: 139.275070\n",
      "Train Epoch: 1 [24960/60000 (42%)]\tLoss: 136.317810\n",
      "Train Epoch: 1 [25600/60000 (43%)]\tLoss: 135.374832\n",
      "Train Epoch: 1 [26240/60000 (44%)]\tLoss: 135.142746\n",
      "Train Epoch: 1 [26880/60000 (45%)]\tLoss: 142.809219\n",
      "Train Epoch: 1 [27520/60000 (46%)]\tLoss: 135.718689\n",
      "Train Epoch: 1 [28160/60000 (47%)]\tLoss: 141.092072\n",
      "Train Epoch: 1 [28800/60000 (48%)]\tLoss: 131.458527\n",
      "Train Epoch: 1 [29440/60000 (49%)]\tLoss: 131.312256\n",
      "Train Epoch: 1 [30080/60000 (50%)]\tLoss: 130.242859\n",
      "Train Epoch: 1 [30720/60000 (51%)]\tLoss: 137.838226\n",
      "Train Epoch: 1 [31360/60000 (52%)]\tLoss: 131.098663\n",
      "Train Epoch: 1 [32000/60000 (53%)]\tLoss: 130.498962\n",
      "Train Epoch: 1 [32640/60000 (54%)]\tLoss: 129.406662\n",
      "Train Epoch: 1 [33280/60000 (55%)]\tLoss: 131.060028\n",
      "Train Epoch: 1 [33920/60000 (57%)]\tLoss: 130.808762\n",
      "Train Epoch: 1 [34560/60000 (58%)]\tLoss: 134.087540\n",
      "Train Epoch: 1 [35200/60000 (59%)]\tLoss: 124.691673\n",
      "Train Epoch: 1 [35840/60000 (60%)]\tLoss: 133.668091\n",
      "Train Epoch: 1 [36480/60000 (61%)]\tLoss: 127.761108\n",
      "Train Epoch: 1 [37120/60000 (62%)]\tLoss: 130.815643\n",
      "Train Epoch: 1 [37760/60000 (63%)]\tLoss: 132.707336\n",
      "Train Epoch: 1 [38400/60000 (64%)]\tLoss: 125.748779\n",
      "Train Epoch: 1 [39040/60000 (65%)]\tLoss: 125.547791\n",
      "Train Epoch: 1 [39680/60000 (66%)]\tLoss: 127.570053\n",
      "Train Epoch: 1 [40320/60000 (67%)]\tLoss: 129.783325\n",
      "Train Epoch: 1 [40960/60000 (68%)]\tLoss: 131.192719\n",
      "Train Epoch: 1 [41600/60000 (69%)]\tLoss: 122.610397\n",
      "Train Epoch: 1 [42240/60000 (70%)]\tLoss: 123.173126\n",
      "Train Epoch: 1 [42880/60000 (71%)]\tLoss: 123.285828\n",
      "Train Epoch: 1 [43520/60000 (72%)]\tLoss: 127.534988\n",
      "Train Epoch: 1 [44160/60000 (74%)]\tLoss: 121.176674\n",
      "Train Epoch: 1 [44800/60000 (75%)]\tLoss: 121.642250\n",
      "Train Epoch: 1 [45440/60000 (76%)]\tLoss: 125.421448\n",
      "Train Epoch: 1 [46080/60000 (77%)]\tLoss: 124.602287\n",
      "Train Epoch: 1 [46720/60000 (78%)]\tLoss: 128.641434\n",
      "Train Epoch: 1 [47360/60000 (79%)]\tLoss: 123.570000\n",
      "Train Epoch: 1 [48000/60000 (80%)]\tLoss: 129.343063\n",
      "Train Epoch: 1 [48640/60000 (81%)]\tLoss: 121.939949\n",
      "Train Epoch: 1 [49280/60000 (82%)]\tLoss: 126.958931\n",
      "Train Epoch: 1 [49920/60000 (83%)]\tLoss: 126.867706\n",
      "Train Epoch: 1 [50560/60000 (84%)]\tLoss: 115.159637\n",
      "Train Epoch: 1 [51200/60000 (85%)]\tLoss: 128.253891\n",
      "Train Epoch: 1 [51840/60000 (86%)]\tLoss: 131.080887\n",
      "Train Epoch: 1 [52480/60000 (87%)]\tLoss: 115.008957\n",
      "Train Epoch: 1 [53120/60000 (88%)]\tLoss: 125.000793\n",
      "Train Epoch: 1 [53760/60000 (90%)]\tLoss: 123.559586\n",
      "Train Epoch: 1 [54400/60000 (91%)]\tLoss: 119.216690\n",
      "Train Epoch: 1 [55040/60000 (92%)]\tLoss: 115.800880\n",
      "Train Epoch: 1 [55680/60000 (93%)]\tLoss: 121.932808\n",
      "Train Epoch: 1 [56320/60000 (94%)]\tLoss: 117.435944\n",
      "Train Epoch: 1 [56960/60000 (95%)]\tLoss: 117.033646\n",
      "Train Epoch: 1 [57600/60000 (96%)]\tLoss: 118.591873\n",
      "Train Epoch: 1 [58240/60000 (97%)]\tLoss: 124.043358\n",
      "Train Epoch: 1 [58880/60000 (98%)]\tLoss: 116.164169\n",
      "Train Epoch: 1 [59520/60000 (99%)]\tLoss: 116.236938\n",
      "====> Epoch: 1 Average loss: 147.5165\n",
      "====> Test set loss: 119.5225\n",
      "Train Epoch: 2 [0/60000 (0%)]\tLoss: 119.160461\n",
      "Train Epoch: 2 [640/60000 (1%)]\tLoss: 122.366226\n",
      "Train Epoch: 2 [1280/60000 (2%)]\tLoss: 118.635742\n",
      "Train Epoch: 2 [1920/60000 (3%)]\tLoss: 113.860329\n",
      "Train Epoch: 2 [2560/60000 (4%)]\tLoss: 115.981979\n",
      "Train Epoch: 2 [3200/60000 (5%)]\tLoss: 122.985947\n",
      "Train Epoch: 2 [3840/60000 (6%)]\tLoss: 122.488571\n",
      "Train Epoch: 2 [4480/60000 (7%)]\tLoss: 124.505356\n",
      "Train Epoch: 2 [5120/60000 (9%)]\tLoss: 117.830864\n",
      "Train Epoch: 2 [5760/60000 (10%)]\tLoss: 121.734344\n",
      "Train Epoch: 2 [6400/60000 (11%)]\tLoss: 119.691330\n",
      "Train Epoch: 2 [7040/60000 (12%)]\tLoss: 121.826233\n",
      "Train Epoch: 2 [7680/60000 (13%)]\tLoss: 118.001259\n",
      "Train Epoch: 2 [8320/60000 (14%)]\tLoss: 114.695969\n",
      "Train Epoch: 2 [8960/60000 (15%)]\tLoss: 123.425629\n",
      "Train Epoch: 2 [9600/60000 (16%)]\tLoss: 116.502647\n",
      "Train Epoch: 2 [10240/60000 (17%)]\tLoss: 116.156036\n",
      "Train Epoch: 2 [10880/60000 (18%)]\tLoss: 120.485100\n",
      "Train Epoch: 2 [11520/60000 (19%)]\tLoss: 120.851669\n",
      "Train Epoch: 2 [12160/60000 (20%)]\tLoss: 115.559105\n",
      "Train Epoch: 2 [12800/60000 (21%)]\tLoss: 122.055000\n",
      "Train Epoch: 2 [13440/60000 (22%)]\tLoss: 119.685699\n",
      "Train Epoch: 2 [14080/60000 (23%)]\tLoss: 114.141342\n",
      "Train Epoch: 2 [14720/60000 (25%)]\tLoss: 114.331718\n",
      "Train Epoch: 2 [15360/60000 (26%)]\tLoss: 116.789276\n",
      "Train Epoch: 2 [16000/60000 (27%)]\tLoss: 115.560928\n",
      "Train Epoch: 2 [16640/60000 (28%)]\tLoss: 118.163673\n",
      "Train Epoch: 2 [17280/60000 (29%)]\tLoss: 113.759865\n",
      "Train Epoch: 2 [17920/60000 (30%)]\tLoss: 110.737190\n",
      "Train Epoch: 2 [18560/60000 (31%)]\tLoss: 122.686066\n",
      "Train Epoch: 2 [19200/60000 (32%)]\tLoss: 116.272606\n",
      "Train Epoch: 2 [19840/60000 (33%)]\tLoss: 115.020874\n",
      "Train Epoch: 2 [20480/60000 (34%)]\tLoss: 117.373657\n",
      "Train Epoch: 2 [21120/60000 (35%)]\tLoss: 118.218803\n",
      "Train Epoch: 2 [21760/60000 (36%)]\tLoss: 112.226013\n",
      "Train Epoch: 2 [22400/60000 (37%)]\tLoss: 113.541176\n",
      "Train Epoch: 2 [23040/60000 (38%)]\tLoss: 109.336014\n",
      "Train Epoch: 2 [23680/60000 (39%)]\tLoss: 116.412979\n",
      "Train Epoch: 2 [24320/60000 (41%)]\tLoss: 116.168816\n",
      "Train Epoch: 2 [24960/60000 (42%)]\tLoss: 118.550346\n",
      "Train Epoch: 2 [25600/60000 (43%)]\tLoss: 114.835075\n",
      "Train Epoch: 2 [26240/60000 (44%)]\tLoss: 119.439217\n",
      "Train Epoch: 2 [26880/60000 (45%)]\tLoss: 109.903152\n",
      "Train Epoch: 2 [27520/60000 (46%)]\tLoss: 113.332687\n",
      "Train Epoch: 2 [28160/60000 (47%)]\tLoss: 118.021828\n",
      "Train Epoch: 2 [28800/60000 (48%)]\tLoss: 116.562843\n",
      "Train Epoch: 2 [29440/60000 (49%)]\tLoss: 123.300476\n",
      "Train Epoch: 2 [30080/60000 (50%)]\tLoss: 117.057556\n",
      "Train Epoch: 2 [30720/60000 (51%)]\tLoss: 115.999603\n",
      "Train Epoch: 2 [31360/60000 (52%)]\tLoss: 124.834000\n",
      "Train Epoch: 2 [32000/60000 (53%)]\tLoss: 113.308243\n",
      "Train Epoch: 2 [32640/60000 (54%)]\tLoss: 113.855606\n",
      "Train Epoch: 2 [33280/60000 (55%)]\tLoss: 119.127365\n",
      "Train Epoch: 2 [33920/60000 (57%)]\tLoss: 116.785278\n",
      "Train Epoch: 2 [34560/60000 (58%)]\tLoss: 118.664818\n",
      "Train Epoch: 2 [35200/60000 (59%)]\tLoss: 116.374054\n",
      "Train Epoch: 2 [35840/60000 (60%)]\tLoss: 112.966843\n",
      "Train Epoch: 2 [36480/60000 (61%)]\tLoss: 117.892555\n",
      "Train Epoch: 2 [37120/60000 (62%)]\tLoss: 119.514320\n",
      "Train Epoch: 2 [37760/60000 (63%)]\tLoss: 117.407974\n",
      "Train Epoch: 2 [38400/60000 (64%)]\tLoss: 114.881279\n",
      "Train Epoch: 2 [39040/60000 (65%)]\tLoss: 116.117836\n",
      "Train Epoch: 2 [39680/60000 (66%)]\tLoss: 119.176918\n",
      "Train Epoch: 2 [40320/60000 (67%)]\tLoss: 113.999420\n"
     ]
    },
    {
     "name": "stdout",
     "output_type": "stream",
     "text": [
      "Train Epoch: 2 [40960/60000 (68%)]\tLoss: 116.963959\n",
      "Train Epoch: 2 [41600/60000 (69%)]\tLoss: 114.330521\n",
      "Train Epoch: 2 [42240/60000 (70%)]\tLoss: 117.738831\n",
      "Train Epoch: 2 [42880/60000 (71%)]\tLoss: 113.496063\n",
      "Train Epoch: 2 [43520/60000 (72%)]\tLoss: 116.694283\n",
      "Train Epoch: 2 [44160/60000 (74%)]\tLoss: 110.394615\n",
      "Train Epoch: 2 [44800/60000 (75%)]\tLoss: 113.680214\n",
      "Train Epoch: 2 [45440/60000 (76%)]\tLoss: 113.489136\n",
      "Train Epoch: 2 [46080/60000 (77%)]\tLoss: 120.442886\n",
      "Train Epoch: 2 [46720/60000 (78%)]\tLoss: 120.435143\n",
      "Train Epoch: 2 [47360/60000 (79%)]\tLoss: 115.985268\n",
      "Train Epoch: 2 [48000/60000 (80%)]\tLoss: 112.129135\n",
      "Train Epoch: 2 [48640/60000 (81%)]\tLoss: 115.240372\n",
      "Train Epoch: 2 [49280/60000 (82%)]\tLoss: 112.294556\n",
      "Train Epoch: 2 [49920/60000 (83%)]\tLoss: 110.678017\n",
      "Train Epoch: 2 [50560/60000 (84%)]\tLoss: 117.982910\n",
      "Train Epoch: 2 [51200/60000 (85%)]\tLoss: 112.683167\n",
      "Train Epoch: 2 [51840/60000 (86%)]\tLoss: 114.573372\n",
      "Train Epoch: 2 [52480/60000 (87%)]\tLoss: 113.299774\n",
      "Train Epoch: 2 [53120/60000 (88%)]\tLoss: 112.292786\n",
      "Train Epoch: 2 [53760/60000 (90%)]\tLoss: 112.453979\n",
      "Train Epoch: 2 [54400/60000 (91%)]\tLoss: 116.203613\n",
      "Train Epoch: 2 [55040/60000 (92%)]\tLoss: 111.084450\n",
      "Train Epoch: 2 [55680/60000 (93%)]\tLoss: 113.095428\n",
      "Train Epoch: 2 [56320/60000 (94%)]\tLoss: 115.899933\n",
      "Train Epoch: 2 [56960/60000 (95%)]\tLoss: 111.558914\n",
      "Train Epoch: 2 [57600/60000 (96%)]\tLoss: 116.948380\n",
      "Train Epoch: 2 [58240/60000 (97%)]\tLoss: 113.434120\n",
      "Train Epoch: 2 [58880/60000 (98%)]\tLoss: 113.649429\n",
      "Train Epoch: 2 [59520/60000 (99%)]\tLoss: 112.498322\n",
      "====> Epoch: 2 Average loss: 116.2976\n",
      "====> Test set loss: 112.9743\n",
      "Train Epoch: 3 [0/60000 (0%)]\tLoss: 111.256020\n",
      "Train Epoch: 3 [640/60000 (1%)]\tLoss: 115.612213\n",
      "Train Epoch: 3 [1280/60000 (2%)]\tLoss: 110.259178\n",
      "Train Epoch: 3 [1920/60000 (3%)]\tLoss: 113.192673\n",
      "Train Epoch: 3 [2560/60000 (4%)]\tLoss: 108.942719\n",
      "Train Epoch: 3 [3200/60000 (5%)]\tLoss: 110.062119\n",
      "Train Epoch: 3 [3840/60000 (6%)]\tLoss: 114.613419\n",
      "Train Epoch: 3 [4480/60000 (7%)]\tLoss: 115.176094\n",
      "Train Epoch: 3 [5120/60000 (9%)]\tLoss: 111.971634\n",
      "Train Epoch: 3 [5760/60000 (10%)]\tLoss: 111.392021\n",
      "Train Epoch: 3 [6400/60000 (11%)]\tLoss: 112.339798\n",
      "Train Epoch: 3 [7040/60000 (12%)]\tLoss: 113.488441\n",
      "Train Epoch: 3 [7680/60000 (13%)]\tLoss: 111.784737\n",
      "Train Epoch: 3 [8320/60000 (14%)]\tLoss: 113.795319\n",
      "Train Epoch: 3 [8960/60000 (15%)]\tLoss: 110.846764\n",
      "Train Epoch: 3 [9600/60000 (16%)]\tLoss: 107.058556\n",
      "Train Epoch: 3 [10240/60000 (17%)]\tLoss: 111.446571\n",
      "Train Epoch: 3 [10880/60000 (18%)]\tLoss: 113.528275\n",
      "Train Epoch: 3 [11520/60000 (19%)]\tLoss: 108.072578\n",
      "Train Epoch: 3 [12160/60000 (20%)]\tLoss: 109.428391\n",
      "Train Epoch: 3 [12800/60000 (21%)]\tLoss: 112.291359\n",
      "Train Epoch: 3 [13440/60000 (22%)]\tLoss: 117.942123\n",
      "Train Epoch: 3 [14080/60000 (23%)]\tLoss: 114.758820\n",
      "Train Epoch: 3 [14720/60000 (25%)]\tLoss: 110.656860\n",
      "Train Epoch: 3 [15360/60000 (26%)]\tLoss: 106.474152\n",
      "Train Epoch: 3 [16000/60000 (27%)]\tLoss: 112.904625\n",
      "Train Epoch: 3 [16640/60000 (28%)]\tLoss: 111.757477\n",
      "Train Epoch: 3 [17280/60000 (29%)]\tLoss: 111.087410\n",
      "Train Epoch: 3 [17920/60000 (30%)]\tLoss: 117.317490\n",
      "Train Epoch: 3 [18560/60000 (31%)]\tLoss: 115.088661\n",
      "Train Epoch: 3 [19200/60000 (32%)]\tLoss: 112.451744\n",
      "Train Epoch: 3 [19840/60000 (33%)]\tLoss: 110.477997\n",
      "Train Epoch: 3 [20480/60000 (34%)]\tLoss: 118.375626\n",
      "Train Epoch: 3 [21120/60000 (35%)]\tLoss: 112.874374\n",
      "Train Epoch: 3 [21760/60000 (36%)]\tLoss: 116.925484\n",
      "Train Epoch: 3 [22400/60000 (37%)]\tLoss: 117.561798\n",
      "Train Epoch: 3 [23040/60000 (38%)]\tLoss: 109.216797\n",
      "Train Epoch: 3 [23680/60000 (39%)]\tLoss: 108.219620\n",
      "Train Epoch: 3 [24320/60000 (41%)]\tLoss: 116.399269\n",
      "Train Epoch: 3 [24960/60000 (42%)]\tLoss: 111.770287\n",
      "Train Epoch: 3 [25600/60000 (43%)]\tLoss: 107.953354\n",
      "Train Epoch: 3 [26240/60000 (44%)]\tLoss: 107.229706\n",
      "Train Epoch: 3 [26880/60000 (45%)]\tLoss: 102.673920\n",
      "Train Epoch: 3 [27520/60000 (46%)]\tLoss: 108.994881\n",
      "Train Epoch: 3 [28160/60000 (47%)]\tLoss: 106.595390\n",
      "Train Epoch: 3 [28800/60000 (48%)]\tLoss: 113.113922\n",
      "Train Epoch: 3 [29440/60000 (49%)]\tLoss: 107.840668\n",
      "Train Epoch: 3 [30080/60000 (50%)]\tLoss: 116.174385\n",
      "Train Epoch: 3 [30720/60000 (51%)]\tLoss: 118.072830\n",
      "Train Epoch: 3 [31360/60000 (52%)]\tLoss: 111.405128\n",
      "Train Epoch: 3 [32000/60000 (53%)]\tLoss: 112.834595\n",
      "Train Epoch: 3 [32640/60000 (54%)]\tLoss: 110.147141\n",
      "Train Epoch: 3 [33280/60000 (55%)]\tLoss: 111.034576\n",
      "Train Epoch: 3 [33920/60000 (57%)]\tLoss: 104.399559\n",
      "Train Epoch: 3 [34560/60000 (58%)]\tLoss: 115.950981\n",
      "Train Epoch: 3 [35200/60000 (59%)]\tLoss: 112.802826\n",
      "Train Epoch: 3 [35840/60000 (60%)]\tLoss: 112.675941\n",
      "Train Epoch: 3 [36480/60000 (61%)]\tLoss: 117.252090\n",
      "Train Epoch: 3 [37120/60000 (62%)]\tLoss: 110.383232\n",
      "Train Epoch: 3 [37760/60000 (63%)]\tLoss: 114.397583\n",
      "Train Epoch: 3 [38400/60000 (64%)]\tLoss: 109.587914\n",
      "Train Epoch: 3 [39040/60000 (65%)]\tLoss: 113.348068\n",
      "Train Epoch: 3 [39680/60000 (66%)]\tLoss: 118.382370\n",
      "Train Epoch: 3 [40320/60000 (67%)]\tLoss: 112.711853\n",
      "Train Epoch: 3 [40960/60000 (68%)]\tLoss: 110.254456\n",
      "Train Epoch: 3 [41600/60000 (69%)]\tLoss: 109.882393\n",
      "Train Epoch: 3 [42240/60000 (70%)]\tLoss: 111.032394\n",
      "Train Epoch: 3 [42880/60000 (71%)]\tLoss: 108.388786\n",
      "Train Epoch: 3 [43520/60000 (72%)]\tLoss: 103.677567\n",
      "Train Epoch: 3 [44160/60000 (74%)]\tLoss: 112.479088\n",
      "Train Epoch: 3 [44800/60000 (75%)]\tLoss: 113.073608\n",
      "Train Epoch: 3 [45440/60000 (76%)]\tLoss: 108.966553\n",
      "Train Epoch: 3 [46080/60000 (77%)]\tLoss: 113.390167\n",
      "Train Epoch: 3 [46720/60000 (78%)]\tLoss: 108.453285\n",
      "Train Epoch: 3 [47360/60000 (79%)]\tLoss: 117.294174\n",
      "Train Epoch: 3 [48000/60000 (80%)]\tLoss: 111.742935\n",
      "Train Epoch: 3 [48640/60000 (81%)]\tLoss: 113.282410\n",
      "Train Epoch: 3 [49280/60000 (82%)]\tLoss: 110.706635\n",
      "Train Epoch: 3 [49920/60000 (83%)]\tLoss: 111.337845\n",
      "Train Epoch: 3 [50560/60000 (84%)]\tLoss: 116.601837\n",
      "Train Epoch: 3 [51200/60000 (85%)]\tLoss: 112.905136\n",
      "Train Epoch: 3 [51840/60000 (86%)]\tLoss: 106.981621\n",
      "Train Epoch: 3 [52480/60000 (87%)]\tLoss: 112.162247\n",
      "Train Epoch: 3 [53120/60000 (88%)]\tLoss: 103.740570\n",
      "Train Epoch: 3 [53760/60000 (90%)]\tLoss: 109.453888\n",
      "Train Epoch: 3 [54400/60000 (91%)]\tLoss: 112.109322\n",
      "Train Epoch: 3 [55040/60000 (92%)]\tLoss: 108.973785\n",
      "Train Epoch: 3 [55680/60000 (93%)]\tLoss: 108.595932\n",
      "Train Epoch: 3 [56320/60000 (94%)]\tLoss: 112.875542\n",
      "Train Epoch: 3 [56960/60000 (95%)]\tLoss: 110.339874\n",
      "Train Epoch: 3 [57600/60000 (96%)]\tLoss: 112.764069\n",
      "Train Epoch: 3 [58240/60000 (97%)]\tLoss: 112.054565\n",
      "Train Epoch: 3 [58880/60000 (98%)]\tLoss: 111.358727\n",
      "Train Epoch: 3 [59520/60000 (99%)]\tLoss: 111.498001\n",
      "====> Epoch: 3 Average loss: 111.6980\n",
      "====> Test set loss: 109.7286\n",
      "Train Epoch: 4 [0/60000 (0%)]\tLoss: 108.934601\n",
      "Train Epoch: 4 [640/60000 (1%)]\tLoss: 106.167679\n",
      "Train Epoch: 4 [1280/60000 (2%)]\tLoss: 104.932007\n",
      "Train Epoch: 4 [1920/60000 (3%)]\tLoss: 108.571709\n",
      "Train Epoch: 4 [2560/60000 (4%)]\tLoss: 111.686516\n",
      "Train Epoch: 4 [3200/60000 (5%)]\tLoss: 109.769516\n",
      "Train Epoch: 4 [3840/60000 (6%)]\tLoss: 117.363434\n",
      "Train Epoch: 4 [4480/60000 (7%)]\tLoss: 103.571320\n",
      "Train Epoch: 4 [5120/60000 (9%)]\tLoss: 114.577873\n",
      "Train Epoch: 4 [5760/60000 (10%)]\tLoss: 109.137482\n",
      "Train Epoch: 4 [6400/60000 (11%)]\tLoss: 106.508385\n",
      "Train Epoch: 4 [7040/60000 (12%)]\tLoss: 111.606583\n",
      "Train Epoch: 4 [7680/60000 (13%)]\tLoss: 111.284439\n",
      "Train Epoch: 4 [8320/60000 (14%)]\tLoss: 112.307175\n",
      "Train Epoch: 4 [8960/60000 (15%)]\tLoss: 104.245056\n",
      "Train Epoch: 4 [9600/60000 (16%)]\tLoss: 107.309021\n",
      "Train Epoch: 4 [10240/60000 (17%)]\tLoss: 108.862305\n",
      "Train Epoch: 4 [10880/60000 (18%)]\tLoss: 104.820549\n",
      "Train Epoch: 4 [11520/60000 (19%)]\tLoss: 112.292404\n",
      "Train Epoch: 4 [12160/60000 (20%)]\tLoss: 108.347183\n",
      "Train Epoch: 4 [12800/60000 (21%)]\tLoss: 104.585503\n",
      "Train Epoch: 4 [13440/60000 (22%)]\tLoss: 109.599113\n",
      "Train Epoch: 4 [14080/60000 (23%)]\tLoss: 117.241989\n",
      "Train Epoch: 4 [14720/60000 (25%)]\tLoss: 106.685631\n",
      "Train Epoch: 4 [15360/60000 (26%)]\tLoss: 110.721939\n",
      "Train Epoch: 4 [16000/60000 (27%)]\tLoss: 109.773712\n",
      "Train Epoch: 4 [16640/60000 (28%)]\tLoss: 113.803452\n",
      "Train Epoch: 4 [17280/60000 (29%)]\tLoss: 111.882072\n",
      "Train Epoch: 4 [17920/60000 (30%)]\tLoss: 110.464806\n",
      "Train Epoch: 4 [18560/60000 (31%)]\tLoss: 109.293137\n",
      "Train Epoch: 4 [19200/60000 (32%)]\tLoss: 111.727951\n",
      "Train Epoch: 4 [19840/60000 (33%)]\tLoss: 113.135979\n",
      "Train Epoch: 4 [20480/60000 (34%)]\tLoss: 106.499611\n",
      "Train Epoch: 4 [21120/60000 (35%)]\tLoss: 107.791832\n"
     ]
    },
    {
     "name": "stdout",
     "output_type": "stream",
     "text": [
      "Train Epoch: 4 [21760/60000 (36%)]\tLoss: 103.579102\n",
      "Train Epoch: 4 [22400/60000 (37%)]\tLoss: 108.015167\n",
      "Train Epoch: 4 [23040/60000 (38%)]\tLoss: 112.398628\n",
      "Train Epoch: 4 [23680/60000 (39%)]\tLoss: 115.541183\n",
      "Train Epoch: 4 [24320/60000 (41%)]\tLoss: 114.492668\n",
      "Train Epoch: 4 [24960/60000 (42%)]\tLoss: 104.599251\n",
      "Train Epoch: 4 [25600/60000 (43%)]\tLoss: 108.062500\n",
      "Train Epoch: 4 [26240/60000 (44%)]\tLoss: 98.838043\n",
      "Train Epoch: 4 [26880/60000 (45%)]\tLoss: 113.139122\n",
      "Train Epoch: 4 [27520/60000 (46%)]\tLoss: 118.918747\n",
      "Train Epoch: 4 [28160/60000 (47%)]\tLoss: 110.023903\n",
      "Train Epoch: 4 [28800/60000 (48%)]\tLoss: 104.847435\n",
      "Train Epoch: 4 [29440/60000 (49%)]\tLoss: 107.614220\n",
      "Train Epoch: 4 [30080/60000 (50%)]\tLoss: 112.924164\n",
      "Train Epoch: 4 [30720/60000 (51%)]\tLoss: 108.356956\n",
      "Train Epoch: 4 [31360/60000 (52%)]\tLoss: 109.741730\n",
      "Train Epoch: 4 [32000/60000 (53%)]\tLoss: 111.587280\n",
      "Train Epoch: 4 [32640/60000 (54%)]\tLoss: 108.225288\n",
      "Train Epoch: 4 [33280/60000 (55%)]\tLoss: 106.356628\n",
      "Train Epoch: 4 [33920/60000 (57%)]\tLoss: 104.100723\n",
      "Train Epoch: 4 [34560/60000 (58%)]\tLoss: 106.935463\n",
      "Train Epoch: 4 [35200/60000 (59%)]\tLoss: 100.051292\n",
      "Train Epoch: 4 [35840/60000 (60%)]\tLoss: 110.808914\n",
      "Train Epoch: 4 [36480/60000 (61%)]\tLoss: 108.893806\n",
      "Train Epoch: 4 [37120/60000 (62%)]\tLoss: 108.653069\n",
      "Train Epoch: 4 [37760/60000 (63%)]\tLoss: 105.474464\n",
      "Train Epoch: 4 [38400/60000 (64%)]\tLoss: 101.203354\n",
      "Train Epoch: 4 [39040/60000 (65%)]\tLoss: 112.134598\n",
      "Train Epoch: 4 [39680/60000 (66%)]\tLoss: 103.596275\n",
      "Train Epoch: 4 [40320/60000 (67%)]\tLoss: 111.156273\n",
      "Train Epoch: 4 [40960/60000 (68%)]\tLoss: 110.806488\n",
      "Train Epoch: 4 [41600/60000 (69%)]\tLoss: 108.170212\n",
      "Train Epoch: 4 [42240/60000 (70%)]\tLoss: 106.317734\n",
      "Train Epoch: 4 [42880/60000 (71%)]\tLoss: 104.383705\n",
      "Train Epoch: 4 [43520/60000 (72%)]\tLoss: 115.248337\n",
      "Train Epoch: 4 [44160/60000 (74%)]\tLoss: 108.795128\n",
      "Train Epoch: 4 [44800/60000 (75%)]\tLoss: 107.963196\n",
      "Train Epoch: 4 [45440/60000 (76%)]\tLoss: 109.908333\n",
      "Train Epoch: 4 [46080/60000 (77%)]\tLoss: 108.344528\n",
      "Train Epoch: 4 [46720/60000 (78%)]\tLoss: 104.572861\n",
      "Train Epoch: 4 [47360/60000 (79%)]\tLoss: 112.359833\n",
      "Train Epoch: 4 [48000/60000 (80%)]\tLoss: 112.901970\n",
      "Train Epoch: 4 [48640/60000 (81%)]\tLoss: 113.933533\n",
      "Train Epoch: 4 [49280/60000 (82%)]\tLoss: 109.738159\n",
      "Train Epoch: 4 [49920/60000 (83%)]\tLoss: 114.034714\n",
      "Train Epoch: 4 [50560/60000 (84%)]\tLoss: 110.086807\n",
      "Train Epoch: 4 [51200/60000 (85%)]\tLoss: 107.885391\n",
      "Train Epoch: 4 [51840/60000 (86%)]\tLoss: 107.786041\n",
      "Train Epoch: 4 [52480/60000 (87%)]\tLoss: 114.444588\n",
      "Train Epoch: 4 [53120/60000 (88%)]\tLoss: 111.753677\n",
      "Train Epoch: 4 [53760/60000 (90%)]\tLoss: 113.015686\n",
      "Train Epoch: 4 [54400/60000 (91%)]\tLoss: 106.761169\n",
      "Train Epoch: 4 [55040/60000 (92%)]\tLoss: 109.494308\n",
      "Train Epoch: 4 [55680/60000 (93%)]\tLoss: 111.842682\n",
      "Train Epoch: 4 [56320/60000 (94%)]\tLoss: 111.868843\n",
      "Train Epoch: 4 [56960/60000 (95%)]\tLoss: 102.926590\n",
      "Train Epoch: 4 [57600/60000 (96%)]\tLoss: 109.295151\n",
      "Train Epoch: 4 [58240/60000 (97%)]\tLoss: 106.728394\n",
      "Train Epoch: 4 [58880/60000 (98%)]\tLoss: 110.384781\n",
      "Train Epoch: 4 [59520/60000 (99%)]\tLoss: 110.483673\n",
      "====> Epoch: 4 Average loss: 109.6159\n",
      "====> Test set loss: 108.4650\n",
      "Train Epoch: 5 [0/60000 (0%)]\tLoss: 113.043243\n",
      "Train Epoch: 5 [640/60000 (1%)]\tLoss: 110.646889\n",
      "Train Epoch: 5 [1280/60000 (2%)]\tLoss: 111.355194\n",
      "Train Epoch: 5 [1920/60000 (3%)]\tLoss: 109.686386\n",
      "Train Epoch: 5 [2560/60000 (4%)]\tLoss: 105.929642\n",
      "Train Epoch: 5 [3200/60000 (5%)]\tLoss: 110.409042\n",
      "Train Epoch: 5 [3840/60000 (6%)]\tLoss: 114.269592\n",
      "Train Epoch: 5 [4480/60000 (7%)]\tLoss: 102.410065\n",
      "Train Epoch: 5 [5120/60000 (9%)]\tLoss: 100.349686\n",
      "Train Epoch: 5 [5760/60000 (10%)]\tLoss: 103.151405\n",
      "Train Epoch: 5 [6400/60000 (11%)]\tLoss: 113.838509\n",
      "Train Epoch: 5 [7040/60000 (12%)]\tLoss: 109.049500\n",
      "Train Epoch: 5 [7680/60000 (13%)]\tLoss: 110.606026\n",
      "Train Epoch: 5 [8320/60000 (14%)]\tLoss: 106.228867\n",
      "Train Epoch: 5 [8960/60000 (15%)]\tLoss: 111.304260\n",
      "Train Epoch: 5 [9600/60000 (16%)]\tLoss: 108.164154\n",
      "Train Epoch: 5 [10240/60000 (17%)]\tLoss: 114.587326\n",
      "Train Epoch: 5 [10880/60000 (18%)]\tLoss: 104.973572\n",
      "Train Epoch: 5 [11520/60000 (19%)]\tLoss: 114.983261\n",
      "Train Epoch: 5 [12160/60000 (20%)]\tLoss: 103.432983\n",
      "Train Epoch: 5 [12800/60000 (21%)]\tLoss: 110.842957\n",
      "Train Epoch: 5 [13440/60000 (22%)]\tLoss: 107.441284\n",
      "Train Epoch: 5 [14080/60000 (23%)]\tLoss: 112.231781\n",
      "Train Epoch: 5 [14720/60000 (25%)]\tLoss: 111.580269\n",
      "Train Epoch: 5 [15360/60000 (26%)]\tLoss: 112.399086\n",
      "Train Epoch: 5 [16000/60000 (27%)]\tLoss: 109.727081\n",
      "Train Epoch: 5 [16640/60000 (28%)]\tLoss: 101.935699\n",
      "Train Epoch: 5 [17280/60000 (29%)]\tLoss: 106.914749\n",
      "Train Epoch: 5 [17920/60000 (30%)]\tLoss: 111.285172\n",
      "Train Epoch: 5 [18560/60000 (31%)]\tLoss: 116.749756\n",
      "Train Epoch: 5 [19200/60000 (32%)]\tLoss: 106.788872\n",
      "Train Epoch: 5 [19840/60000 (33%)]\tLoss: 109.657410\n",
      "Train Epoch: 5 [20480/60000 (34%)]\tLoss: 105.311569\n",
      "Train Epoch: 5 [21120/60000 (35%)]\tLoss: 107.671661\n",
      "Train Epoch: 5 [21760/60000 (36%)]\tLoss: 111.327423\n",
      "Train Epoch: 5 [22400/60000 (37%)]\tLoss: 111.504028\n",
      "Train Epoch: 5 [23040/60000 (38%)]\tLoss: 106.552643\n",
      "Train Epoch: 5 [23680/60000 (39%)]\tLoss: 106.468468\n",
      "Train Epoch: 5 [24320/60000 (41%)]\tLoss: 102.071159\n",
      "Train Epoch: 5 [24960/60000 (42%)]\tLoss: 102.974739\n",
      "Train Epoch: 5 [25600/60000 (43%)]\tLoss: 106.772850\n",
      "Train Epoch: 5 [26240/60000 (44%)]\tLoss: 111.641891\n",
      "Train Epoch: 5 [26880/60000 (45%)]\tLoss: 106.127617\n",
      "Train Epoch: 5 [27520/60000 (46%)]\tLoss: 110.537369\n",
      "Train Epoch: 5 [28160/60000 (47%)]\tLoss: 108.158478\n",
      "Train Epoch: 5 [28800/60000 (48%)]\tLoss: 100.664948\n",
      "Train Epoch: 5 [29440/60000 (49%)]\tLoss: 115.247650\n",
      "Train Epoch: 5 [30080/60000 (50%)]\tLoss: 97.120056\n",
      "Train Epoch: 5 [30720/60000 (51%)]\tLoss: 100.515968\n",
      "Train Epoch: 5 [31360/60000 (52%)]\tLoss: 105.343803\n",
      "Train Epoch: 5 [32000/60000 (53%)]\tLoss: 111.130646\n",
      "Train Epoch: 5 [32640/60000 (54%)]\tLoss: 112.939476\n",
      "Train Epoch: 5 [33280/60000 (55%)]\tLoss: 109.793716\n",
      "Train Epoch: 5 [33920/60000 (57%)]\tLoss: 109.848831\n",
      "Train Epoch: 5 [34560/60000 (58%)]\tLoss: 106.803085\n",
      "Train Epoch: 5 [35200/60000 (59%)]\tLoss: 106.245102\n",
      "Train Epoch: 5 [35840/60000 (60%)]\tLoss: 116.865997\n",
      "Train Epoch: 5 [36480/60000 (61%)]\tLoss: 108.662132\n",
      "Train Epoch: 5 [37120/60000 (62%)]\tLoss: 103.054382\n",
      "Train Epoch: 5 [37760/60000 (63%)]\tLoss: 101.276016\n",
      "Train Epoch: 5 [38400/60000 (64%)]\tLoss: 102.626175\n",
      "Train Epoch: 5 [39040/60000 (65%)]\tLoss: 103.227142\n",
      "Train Epoch: 5 [39680/60000 (66%)]\tLoss: 103.164932\n",
      "Train Epoch: 5 [40320/60000 (67%)]\tLoss: 109.470047\n",
      "Train Epoch: 5 [40960/60000 (68%)]\tLoss: 107.807434\n",
      "Train Epoch: 5 [41600/60000 (69%)]\tLoss: 108.838226\n",
      "Train Epoch: 5 [42240/60000 (70%)]\tLoss: 111.781807\n",
      "Train Epoch: 5 [42880/60000 (71%)]\tLoss: 105.522995\n",
      "Train Epoch: 5 [43520/60000 (72%)]\tLoss: 103.661766\n",
      "Train Epoch: 5 [44160/60000 (74%)]\tLoss: 108.741638\n",
      "Train Epoch: 5 [44800/60000 (75%)]\tLoss: 115.581573\n",
      "Train Epoch: 5 [45440/60000 (76%)]\tLoss: 117.014130\n",
      "Train Epoch: 5 [46080/60000 (77%)]\tLoss: 110.061783\n",
      "Train Epoch: 5 [46720/60000 (78%)]\tLoss: 107.469978\n",
      "Train Epoch: 5 [47360/60000 (79%)]\tLoss: 102.591194\n",
      "Train Epoch: 5 [48000/60000 (80%)]\tLoss: 107.230309\n",
      "Train Epoch: 5 [48640/60000 (81%)]\tLoss: 108.655060\n",
      "Train Epoch: 5 [49280/60000 (82%)]\tLoss: 110.234192\n",
      "Train Epoch: 5 [49920/60000 (83%)]\tLoss: 104.029861\n",
      "Train Epoch: 5 [50560/60000 (84%)]\tLoss: 111.079254\n",
      "Train Epoch: 5 [51200/60000 (85%)]\tLoss: 108.496078\n",
      "Train Epoch: 5 [51840/60000 (86%)]\tLoss: 108.844727\n",
      "Train Epoch: 5 [52480/60000 (87%)]\tLoss: 110.085846\n",
      "Train Epoch: 5 [53120/60000 (88%)]\tLoss: 106.288338\n",
      "Train Epoch: 5 [53760/60000 (90%)]\tLoss: 105.648293\n",
      "Train Epoch: 5 [54400/60000 (91%)]\tLoss: 110.719147\n",
      "Train Epoch: 5 [55040/60000 (92%)]\tLoss: 104.877121\n",
      "Train Epoch: 5 [55680/60000 (93%)]\tLoss: 105.726967\n",
      "Train Epoch: 5 [56320/60000 (94%)]\tLoss: 109.800705\n",
      "Train Epoch: 5 [56960/60000 (95%)]\tLoss: 116.112663\n",
      "Train Epoch: 5 [57600/60000 (96%)]\tLoss: 109.153488\n",
      "Train Epoch: 5 [58240/60000 (97%)]\tLoss: 108.843010\n",
      "Train Epoch: 5 [58880/60000 (98%)]\tLoss: 109.799576\n",
      "Train Epoch: 5 [59520/60000 (99%)]\tLoss: 107.798981\n",
      "====> Epoch: 5 Average loss: 108.4065\n",
      "====> Test set loss: 107.2439\n",
      "Train Epoch: 6 [0/60000 (0%)]\tLoss: 105.270111\n",
      "Train Epoch: 6 [640/60000 (1%)]\tLoss: 107.972641\n"
     ]
    },
    {
     "name": "stdout",
     "output_type": "stream",
     "text": [
      "Train Epoch: 6 [1280/60000 (2%)]\tLoss: 107.917343\n",
      "Train Epoch: 6 [1920/60000 (3%)]\tLoss: 102.672249\n",
      "Train Epoch: 6 [2560/60000 (4%)]\tLoss: 110.801422\n",
      "Train Epoch: 6 [3200/60000 (5%)]\tLoss: 107.955864\n",
      "Train Epoch: 6 [3840/60000 (6%)]\tLoss: 111.475174\n",
      "Train Epoch: 6 [4480/60000 (7%)]\tLoss: 106.111191\n",
      "Train Epoch: 6 [5120/60000 (9%)]\tLoss: 104.172424\n",
      "Train Epoch: 6 [5760/60000 (10%)]\tLoss: 117.381271\n",
      "Train Epoch: 6 [6400/60000 (11%)]\tLoss: 106.280640\n",
      "Train Epoch: 6 [7040/60000 (12%)]\tLoss: 104.585274\n",
      "Train Epoch: 6 [7680/60000 (13%)]\tLoss: 104.583809\n",
      "Train Epoch: 6 [8320/60000 (14%)]\tLoss: 108.716782\n",
      "Train Epoch: 6 [8960/60000 (15%)]\tLoss: 102.319992\n",
      "Train Epoch: 6 [9600/60000 (16%)]\tLoss: 109.022423\n",
      "Train Epoch: 6 [10240/60000 (17%)]\tLoss: 110.366600\n",
      "Train Epoch: 6 [10880/60000 (18%)]\tLoss: 105.246262\n",
      "Train Epoch: 6 [11520/60000 (19%)]\tLoss: 99.136917\n",
      "Train Epoch: 6 [12160/60000 (20%)]\tLoss: 106.014511\n",
      "Train Epoch: 6 [12800/60000 (21%)]\tLoss: 107.495117\n",
      "Train Epoch: 6 [13440/60000 (22%)]\tLoss: 107.479767\n",
      "Train Epoch: 6 [14080/60000 (23%)]\tLoss: 103.529961\n",
      "Train Epoch: 6 [14720/60000 (25%)]\tLoss: 104.196564\n",
      "Train Epoch: 6 [15360/60000 (26%)]\tLoss: 105.065628\n",
      "Train Epoch: 6 [16000/60000 (27%)]\tLoss: 110.515594\n",
      "Train Epoch: 6 [16640/60000 (28%)]\tLoss: 110.485069\n",
      "Train Epoch: 6 [17280/60000 (29%)]\tLoss: 104.559326\n",
      "Train Epoch: 6 [17920/60000 (30%)]\tLoss: 107.118958\n",
      "Train Epoch: 6 [18560/60000 (31%)]\tLoss: 106.277496\n",
      "Train Epoch: 6 [19200/60000 (32%)]\tLoss: 111.279831\n",
      "Train Epoch: 6 [19840/60000 (33%)]\tLoss: 106.061714\n",
      "Train Epoch: 6 [20480/60000 (34%)]\tLoss: 105.308968\n",
      "Train Epoch: 6 [21120/60000 (35%)]\tLoss: 111.284622\n",
      "Train Epoch: 6 [21760/60000 (36%)]\tLoss: 111.511520\n",
      "Train Epoch: 6 [22400/60000 (37%)]\tLoss: 109.296318\n",
      "Train Epoch: 6 [23040/60000 (38%)]\tLoss: 105.975571\n",
      "Train Epoch: 6 [23680/60000 (39%)]\tLoss: 104.284676\n",
      "Train Epoch: 6 [24320/60000 (41%)]\tLoss: 107.303490\n",
      "Train Epoch: 6 [24960/60000 (42%)]\tLoss: 107.931114\n",
      "Train Epoch: 6 [25600/60000 (43%)]\tLoss: 107.432686\n",
      "Train Epoch: 6 [26240/60000 (44%)]\tLoss: 106.114113\n",
      "Train Epoch: 6 [26880/60000 (45%)]\tLoss: 110.950050\n",
      "Train Epoch: 6 [27520/60000 (46%)]\tLoss: 107.728073\n",
      "Train Epoch: 6 [28160/60000 (47%)]\tLoss: 106.962677\n",
      "Train Epoch: 6 [28800/60000 (48%)]\tLoss: 106.152740\n",
      "Train Epoch: 6 [29440/60000 (49%)]\tLoss: 109.095833\n",
      "Train Epoch: 6 [30080/60000 (50%)]\tLoss: 103.203331\n",
      "Train Epoch: 6 [30720/60000 (51%)]\tLoss: 110.822563\n",
      "Train Epoch: 6 [31360/60000 (52%)]\tLoss: 108.610893\n",
      "Train Epoch: 6 [32000/60000 (53%)]\tLoss: 112.570389\n",
      "Train Epoch: 6 [32640/60000 (54%)]\tLoss: 113.779724\n",
      "Train Epoch: 6 [33280/60000 (55%)]\tLoss: 110.845940\n",
      "Train Epoch: 6 [33920/60000 (57%)]\tLoss: 111.826454\n",
      "Train Epoch: 6 [34560/60000 (58%)]\tLoss: 112.075783\n",
      "Train Epoch: 6 [35200/60000 (59%)]\tLoss: 109.231598\n",
      "Train Epoch: 6 [35840/60000 (60%)]\tLoss: 109.505005\n",
      "Train Epoch: 6 [36480/60000 (61%)]\tLoss: 104.377045\n",
      "Train Epoch: 6 [37120/60000 (62%)]\tLoss: 110.290161\n",
      "Train Epoch: 6 [37760/60000 (63%)]\tLoss: 107.310234\n",
      "Train Epoch: 6 [38400/60000 (64%)]\tLoss: 111.787712\n",
      "Train Epoch: 6 [39040/60000 (65%)]\tLoss: 103.216743\n",
      "Train Epoch: 6 [39680/60000 (66%)]\tLoss: 106.265198\n",
      "Train Epoch: 6 [40320/60000 (67%)]\tLoss: 110.083702\n",
      "Train Epoch: 6 [40960/60000 (68%)]\tLoss: 103.610909\n",
      "Train Epoch: 6 [41600/60000 (69%)]\tLoss: 101.786102\n",
      "Train Epoch: 6 [42240/60000 (70%)]\tLoss: 99.609055\n",
      "Train Epoch: 6 [42880/60000 (71%)]\tLoss: 108.370392\n",
      "Train Epoch: 6 [43520/60000 (72%)]\tLoss: 103.821861\n",
      "Train Epoch: 6 [44160/60000 (74%)]\tLoss: 105.427757\n",
      "Train Epoch: 6 [44800/60000 (75%)]\tLoss: 109.006172\n",
      "Train Epoch: 6 [45440/60000 (76%)]\tLoss: 109.551926\n",
      "Train Epoch: 6 [46080/60000 (77%)]\tLoss: 100.045776\n",
      "Train Epoch: 6 [46720/60000 (78%)]\tLoss: 109.690308\n",
      "Train Epoch: 6 [47360/60000 (79%)]\tLoss: 105.888062\n",
      "Train Epoch: 6 [48000/60000 (80%)]\tLoss: 101.626877\n",
      "Train Epoch: 6 [48640/60000 (81%)]\tLoss: 105.385391\n",
      "Train Epoch: 6 [49280/60000 (82%)]\tLoss: 100.821732\n",
      "Train Epoch: 6 [49920/60000 (83%)]\tLoss: 101.994087\n",
      "Train Epoch: 6 [50560/60000 (84%)]\tLoss: 109.265472\n",
      "Train Epoch: 6 [51200/60000 (85%)]\tLoss: 106.633141\n",
      "Train Epoch: 6 [51840/60000 (86%)]\tLoss: 106.565292\n",
      "Train Epoch: 6 [52480/60000 (87%)]\tLoss: 105.078255\n",
      "Train Epoch: 6 [53120/60000 (88%)]\tLoss: 100.113602\n",
      "Train Epoch: 6 [53760/60000 (90%)]\tLoss: 113.910706\n",
      "Train Epoch: 6 [54400/60000 (91%)]\tLoss: 112.271744\n",
      "Train Epoch: 6 [55040/60000 (92%)]\tLoss: 111.902351\n",
      "Train Epoch: 6 [55680/60000 (93%)]\tLoss: 111.739212\n",
      "Train Epoch: 6 [56320/60000 (94%)]\tLoss: 108.080467\n",
      "Train Epoch: 6 [56960/60000 (95%)]\tLoss: 108.919235\n",
      "Train Epoch: 6 [57600/60000 (96%)]\tLoss: 111.241394\n",
      "Train Epoch: 6 [58240/60000 (97%)]\tLoss: 102.135071\n",
      "Train Epoch: 6 [58880/60000 (98%)]\tLoss: 111.130745\n",
      "Train Epoch: 6 [59520/60000 (99%)]\tLoss: 107.198738\n",
      "====> Epoch: 6 Average loss: 107.5735\n",
      "====> Test set loss: 106.6635\n",
      "Train Epoch: 7 [0/60000 (0%)]\tLoss: 105.748497\n",
      "Train Epoch: 7 [640/60000 (1%)]\tLoss: 98.032715\n",
      "Train Epoch: 7 [1280/60000 (2%)]\tLoss: 105.445511\n",
      "Train Epoch: 7 [1920/60000 (3%)]\tLoss: 105.185593\n",
      "Train Epoch: 7 [2560/60000 (4%)]\tLoss: 111.241280\n",
      "Train Epoch: 7 [3200/60000 (5%)]\tLoss: 104.425560\n",
      "Train Epoch: 7 [3840/60000 (6%)]\tLoss: 102.195602\n",
      "Train Epoch: 7 [4480/60000 (7%)]\tLoss: 110.546631\n",
      "Train Epoch: 7 [5120/60000 (9%)]\tLoss: 107.115982\n",
      "Train Epoch: 7 [5760/60000 (10%)]\tLoss: 106.797226\n",
      "Train Epoch: 7 [6400/60000 (11%)]\tLoss: 104.495010\n",
      "Train Epoch: 7 [7040/60000 (12%)]\tLoss: 103.484146\n",
      "Train Epoch: 7 [7680/60000 (13%)]\tLoss: 104.183609\n",
      "Train Epoch: 7 [8320/60000 (14%)]\tLoss: 108.053314\n",
      "Train Epoch: 7 [8960/60000 (15%)]\tLoss: 101.883438\n",
      "Train Epoch: 7 [9600/60000 (16%)]\tLoss: 107.078476\n",
      "Train Epoch: 7 [10240/60000 (17%)]\tLoss: 108.789734\n",
      "Train Epoch: 7 [10880/60000 (18%)]\tLoss: 100.073677\n",
      "Train Epoch: 7 [11520/60000 (19%)]\tLoss: 110.994858\n",
      "Train Epoch: 7 [12160/60000 (20%)]\tLoss: 107.580185\n",
      "Train Epoch: 7 [12800/60000 (21%)]\tLoss: 108.766121\n",
      "Train Epoch: 7 [13440/60000 (22%)]\tLoss: 108.069962\n",
      "Train Epoch: 7 [14080/60000 (23%)]\tLoss: 109.566467\n",
      "Train Epoch: 7 [14720/60000 (25%)]\tLoss: 106.933540\n",
      "Train Epoch: 7 [15360/60000 (26%)]\tLoss: 108.790497\n",
      "Train Epoch: 7 [16000/60000 (27%)]\tLoss: 100.633499\n",
      "Train Epoch: 7 [16640/60000 (28%)]\tLoss: 104.304031\n",
      "Train Epoch: 7 [17280/60000 (29%)]\tLoss: 105.101288\n",
      "Train Epoch: 7 [17920/60000 (30%)]\tLoss: 107.171768\n",
      "Train Epoch: 7 [18560/60000 (31%)]\tLoss: 111.310936\n",
      "Train Epoch: 7 [19200/60000 (32%)]\tLoss: 102.496490\n",
      "Train Epoch: 7 [19840/60000 (33%)]\tLoss: 99.607887\n",
      "Train Epoch: 7 [20480/60000 (34%)]\tLoss: 105.470985\n",
      "Train Epoch: 7 [21120/60000 (35%)]\tLoss: 105.089615\n",
      "Train Epoch: 7 [21760/60000 (36%)]\tLoss: 101.067535\n",
      "Train Epoch: 7 [22400/60000 (37%)]\tLoss: 112.288712\n",
      "Train Epoch: 7 [23040/60000 (38%)]\tLoss: 106.828522\n",
      "Train Epoch: 7 [23680/60000 (39%)]\tLoss: 108.355736\n",
      "Train Epoch: 7 [24320/60000 (41%)]\tLoss: 106.847923\n",
      "Train Epoch: 7 [24960/60000 (42%)]\tLoss: 110.463287\n",
      "Train Epoch: 7 [25600/60000 (43%)]\tLoss: 106.555710\n",
      "Train Epoch: 7 [26240/60000 (44%)]\tLoss: 107.132523\n",
      "Train Epoch: 7 [26880/60000 (45%)]\tLoss: 113.835030\n",
      "Train Epoch: 7 [27520/60000 (46%)]\tLoss: 108.236008\n",
      "Train Epoch: 7 [28160/60000 (47%)]\tLoss: 110.348511\n",
      "Train Epoch: 7 [28800/60000 (48%)]\tLoss: 108.250259\n",
      "Train Epoch: 7 [29440/60000 (49%)]\tLoss: 111.535088\n",
      "Train Epoch: 7 [30080/60000 (50%)]\tLoss: 108.557617\n",
      "Train Epoch: 7 [30720/60000 (51%)]\tLoss: 108.935562\n",
      "Train Epoch: 7 [31360/60000 (52%)]\tLoss: 108.832932\n",
      "Train Epoch: 7 [32000/60000 (53%)]\tLoss: 99.077156\n",
      "Train Epoch: 7 [32640/60000 (54%)]\tLoss: 110.015991\n",
      "Train Epoch: 7 [33280/60000 (55%)]\tLoss: 107.142899\n",
      "Train Epoch: 7 [33920/60000 (57%)]\tLoss: 104.812889\n",
      "Train Epoch: 7 [34560/60000 (58%)]\tLoss: 111.293282\n",
      "Train Epoch: 7 [35200/60000 (59%)]\tLoss: 108.003540\n",
      "Train Epoch: 7 [35840/60000 (60%)]\tLoss: 113.378677\n",
      "Train Epoch: 7 [36480/60000 (61%)]\tLoss: 105.644798\n",
      "Train Epoch: 7 [37120/60000 (62%)]\tLoss: 110.755997\n",
      "Train Epoch: 7 [37760/60000 (63%)]\tLoss: 102.755325\n",
      "Train Epoch: 7 [38400/60000 (64%)]\tLoss: 105.863953\n",
      "Train Epoch: 7 [39040/60000 (65%)]\tLoss: 106.255203\n",
      "Train Epoch: 7 [39680/60000 (66%)]\tLoss: 108.719269\n",
      "Train Epoch: 7 [40320/60000 (67%)]\tLoss: 109.534363\n",
      "Train Epoch: 7 [40960/60000 (68%)]\tLoss: 114.810509\n",
      "Train Epoch: 7 [41600/60000 (69%)]\tLoss: 105.193314\n"
     ]
    },
    {
     "name": "stdout",
     "output_type": "stream",
     "text": [
      "Train Epoch: 7 [42240/60000 (70%)]\tLoss: 105.022324\n",
      "Train Epoch: 7 [42880/60000 (71%)]\tLoss: 106.048279\n",
      "Train Epoch: 7 [43520/60000 (72%)]\tLoss: 115.218277\n",
      "Train Epoch: 7 [44160/60000 (74%)]\tLoss: 104.243210\n",
      "Train Epoch: 7 [44800/60000 (75%)]\tLoss: 101.526810\n",
      "Train Epoch: 7 [45440/60000 (76%)]\tLoss: 113.047859\n",
      "Train Epoch: 7 [46080/60000 (77%)]\tLoss: 104.284782\n",
      "Train Epoch: 7 [46720/60000 (78%)]\tLoss: 108.082153\n",
      "Train Epoch: 7 [47360/60000 (79%)]\tLoss: 112.266960\n",
      "Train Epoch: 7 [48000/60000 (80%)]\tLoss: 103.622665\n",
      "Train Epoch: 7 [48640/60000 (81%)]\tLoss: 105.195671\n",
      "Train Epoch: 7 [49280/60000 (82%)]\tLoss: 107.813377\n",
      "Train Epoch: 7 [49920/60000 (83%)]\tLoss: 108.933807\n",
      "Train Epoch: 7 [50560/60000 (84%)]\tLoss: 102.662292\n",
      "Train Epoch: 7 [51200/60000 (85%)]\tLoss: 107.335938\n",
      "Train Epoch: 7 [51840/60000 (86%)]\tLoss: 101.056137\n",
      "Train Epoch: 7 [52480/60000 (87%)]\tLoss: 104.791428\n",
      "Train Epoch: 7 [53120/60000 (88%)]\tLoss: 108.886902\n",
      "Train Epoch: 7 [53760/60000 (90%)]\tLoss: 104.075554\n",
      "Train Epoch: 7 [54400/60000 (91%)]\tLoss: 104.339752\n",
      "Train Epoch: 7 [55040/60000 (92%)]\tLoss: 107.543076\n",
      "Train Epoch: 7 [55680/60000 (93%)]\tLoss: 107.916710\n",
      "Train Epoch: 7 [56320/60000 (94%)]\tLoss: 106.872673\n",
      "Train Epoch: 7 [56960/60000 (95%)]\tLoss: 108.312111\n",
      "Train Epoch: 7 [57600/60000 (96%)]\tLoss: 106.981903\n",
      "Train Epoch: 7 [58240/60000 (97%)]\tLoss: 107.927841\n",
      "Train Epoch: 7 [58880/60000 (98%)]\tLoss: 102.722061\n",
      "Train Epoch: 7 [59520/60000 (99%)]\tLoss: 111.044098\n",
      "====> Epoch: 7 Average loss: 106.9695\n",
      "====> Test set loss: 106.1788\n",
      "Train Epoch: 8 [0/60000 (0%)]\tLoss: 104.681847\n",
      "Train Epoch: 8 [640/60000 (1%)]\tLoss: 106.242744\n",
      "Train Epoch: 8 [1280/60000 (2%)]\tLoss: 108.685829\n",
      "Train Epoch: 8 [1920/60000 (3%)]\tLoss: 107.697060\n",
      "Train Epoch: 8 [2560/60000 (4%)]\tLoss: 105.293640\n",
      "Train Epoch: 8 [3200/60000 (5%)]\tLoss: 103.058678\n",
      "Train Epoch: 8 [3840/60000 (6%)]\tLoss: 104.350754\n",
      "Train Epoch: 8 [4480/60000 (7%)]\tLoss: 104.748131\n",
      "Train Epoch: 8 [5120/60000 (9%)]\tLoss: 104.324333\n",
      "Train Epoch: 8 [5760/60000 (10%)]\tLoss: 109.713165\n",
      "Train Epoch: 8 [6400/60000 (11%)]\tLoss: 107.491890\n",
      "Train Epoch: 8 [7040/60000 (12%)]\tLoss: 106.256790\n",
      "Train Epoch: 8 [7680/60000 (13%)]\tLoss: 108.604042\n",
      "Train Epoch: 8 [8320/60000 (14%)]\tLoss: 107.483086\n",
      "Train Epoch: 8 [8960/60000 (15%)]\tLoss: 109.542618\n",
      "Train Epoch: 8 [9600/60000 (16%)]\tLoss: 104.906517\n",
      "Train Epoch: 8 [10240/60000 (17%)]\tLoss: 103.766930\n",
      "Train Epoch: 8 [10880/60000 (18%)]\tLoss: 110.722145\n",
      "Train Epoch: 8 [11520/60000 (19%)]\tLoss: 102.466240\n",
      "Train Epoch: 8 [12160/60000 (20%)]\tLoss: 108.350693\n",
      "Train Epoch: 8 [12800/60000 (21%)]\tLoss: 106.115829\n",
      "Train Epoch: 8 [13440/60000 (22%)]\tLoss: 107.865166\n",
      "Train Epoch: 8 [14080/60000 (23%)]\tLoss: 106.606529\n",
      "Train Epoch: 8 [14720/60000 (25%)]\tLoss: 98.994324\n",
      "Train Epoch: 8 [15360/60000 (26%)]\tLoss: 103.083038\n",
      "Train Epoch: 8 [16000/60000 (27%)]\tLoss: 108.849953\n",
      "Train Epoch: 8 [16640/60000 (28%)]\tLoss: 103.163071\n",
      "Train Epoch: 8 [17280/60000 (29%)]\tLoss: 104.152878\n",
      "Train Epoch: 8 [17920/60000 (30%)]\tLoss: 106.287109\n",
      "Train Epoch: 8 [18560/60000 (31%)]\tLoss: 108.205994\n",
      "Train Epoch: 8 [19200/60000 (32%)]\tLoss: 106.319916\n",
      "Train Epoch: 8 [19840/60000 (33%)]\tLoss: 102.530663\n",
      "Train Epoch: 8 [20480/60000 (34%)]\tLoss: 102.865242\n",
      "Train Epoch: 8 [21120/60000 (35%)]\tLoss: 107.624496\n",
      "Train Epoch: 8 [21760/60000 (36%)]\tLoss: 97.505707\n",
      "Train Epoch: 8 [22400/60000 (37%)]\tLoss: 103.486244\n",
      "Train Epoch: 8 [23040/60000 (38%)]\tLoss: 109.814224\n",
      "Train Epoch: 8 [23680/60000 (39%)]\tLoss: 104.117653\n",
      "Train Epoch: 8 [24320/60000 (41%)]\tLoss: 99.644951\n",
      "Train Epoch: 8 [24960/60000 (42%)]\tLoss: 107.548088\n",
      "Train Epoch: 8 [25600/60000 (43%)]\tLoss: 109.963135\n",
      "Train Epoch: 8 [26240/60000 (44%)]\tLoss: 112.022575\n",
      "Train Epoch: 8 [26880/60000 (45%)]\tLoss: 108.566620\n",
      "Train Epoch: 8 [27520/60000 (46%)]\tLoss: 107.196793\n",
      "Train Epoch: 8 [28160/60000 (47%)]\tLoss: 111.898331\n",
      "Train Epoch: 8 [28800/60000 (48%)]\tLoss: 108.434799\n",
      "Train Epoch: 8 [29440/60000 (49%)]\tLoss: 107.569534\n",
      "Train Epoch: 8 [30080/60000 (50%)]\tLoss: 108.213203\n",
      "Train Epoch: 8 [30720/60000 (51%)]\tLoss: 107.016312\n",
      "Train Epoch: 8 [31360/60000 (52%)]\tLoss: 112.937088\n",
      "Train Epoch: 8 [32000/60000 (53%)]\tLoss: 108.370468\n",
      "Train Epoch: 8 [32640/60000 (54%)]\tLoss: 112.970840\n",
      "Train Epoch: 8 [33280/60000 (55%)]\tLoss: 109.538536\n",
      "Train Epoch: 8 [33920/60000 (57%)]\tLoss: 102.686478\n",
      "Train Epoch: 8 [34560/60000 (58%)]\tLoss: 101.066780\n",
      "Train Epoch: 8 [35200/60000 (59%)]\tLoss: 110.497940\n",
      "Train Epoch: 8 [35840/60000 (60%)]\tLoss: 113.137207\n",
      "Train Epoch: 8 [36480/60000 (61%)]\tLoss: 105.278145\n",
      "Train Epoch: 8 [37120/60000 (62%)]\tLoss: 104.533272\n",
      "Train Epoch: 8 [37760/60000 (63%)]\tLoss: 107.257324\n",
      "Train Epoch: 8 [38400/60000 (64%)]\tLoss: 101.860535\n",
      "Train Epoch: 8 [39040/60000 (65%)]\tLoss: 111.295677\n",
      "Train Epoch: 8 [39680/60000 (66%)]\tLoss: 105.125298\n",
      "Train Epoch: 8 [40320/60000 (67%)]\tLoss: 106.850388\n",
      "Train Epoch: 8 [40960/60000 (68%)]\tLoss: 104.699486\n",
      "Train Epoch: 8 [41600/60000 (69%)]\tLoss: 104.691879\n",
      "Train Epoch: 8 [42240/60000 (70%)]\tLoss: 107.460075\n",
      "Train Epoch: 8 [42880/60000 (71%)]\tLoss: 111.197281\n",
      "Train Epoch: 8 [43520/60000 (72%)]\tLoss: 104.114464\n",
      "Train Epoch: 8 [44160/60000 (74%)]\tLoss: 106.744965\n",
      "Train Epoch: 8 [44800/60000 (75%)]\tLoss: 110.046005\n",
      "Train Epoch: 8 [45440/60000 (76%)]\tLoss: 107.554321\n",
      "Train Epoch: 8 [46080/60000 (77%)]\tLoss: 109.393509\n",
      "Train Epoch: 8 [46720/60000 (78%)]\tLoss: 105.617073\n",
      "Train Epoch: 8 [47360/60000 (79%)]\tLoss: 107.704529\n",
      "Train Epoch: 8 [48000/60000 (80%)]\tLoss: 109.435600\n",
      "Train Epoch: 8 [48640/60000 (81%)]\tLoss: 103.532684\n",
      "Train Epoch: 8 [49280/60000 (82%)]\tLoss: 109.060852\n",
      "Train Epoch: 8 [49920/60000 (83%)]\tLoss: 109.104637\n",
      "Train Epoch: 8 [50560/60000 (84%)]\tLoss: 110.727791\n",
      "Train Epoch: 8 [51200/60000 (85%)]\tLoss: 98.741516\n",
      "Train Epoch: 8 [51840/60000 (86%)]\tLoss: 103.226044\n",
      "Train Epoch: 8 [52480/60000 (87%)]\tLoss: 106.452377\n",
      "Train Epoch: 8 [53120/60000 (88%)]\tLoss: 104.487625\n",
      "Train Epoch: 8 [53760/60000 (90%)]\tLoss: 108.321205\n",
      "Train Epoch: 8 [54400/60000 (91%)]\tLoss: 105.505676\n",
      "Train Epoch: 8 [55040/60000 (92%)]\tLoss: 108.784195\n",
      "Train Epoch: 8 [55680/60000 (93%)]\tLoss: 106.870651\n",
      "Train Epoch: 8 [56320/60000 (94%)]\tLoss: 104.111092\n",
      "Train Epoch: 8 [56960/60000 (95%)]\tLoss: 106.179764\n",
      "Train Epoch: 8 [57600/60000 (96%)]\tLoss: 104.765129\n",
      "Train Epoch: 8 [58240/60000 (97%)]\tLoss: 102.718178\n",
      "Train Epoch: 8 [58880/60000 (98%)]\tLoss: 104.557579\n",
      "Train Epoch: 8 [59520/60000 (99%)]\tLoss: 109.781822\n",
      "====> Epoch: 8 Average loss: 106.4383\n",
      "====> Test set loss: 106.0775\n"
     ]
    }
   ],
   "source": [
    "for epoch in range(1, args.epochs + 1):\n",
    "        train(epoch)\n",
    "        test(epoch)\n",
    "        with torch.no_grad():\n",
    "            sample = torch.randn(64, 20).to(device)\n",
    "            sample = model.decode(sample).cpu()\n",
    "            #save_image(sample.view(64, 1, 28, 28),\n",
    "                       #'results/sample_' + str(epoch) + '.png')"
   ]
  },
  {
   "cell_type": "markdown",
   "metadata": {},
   "source": [
    "### Plot what we have learned "
   ]
  },
  {
   "cell_type": "markdown",
   "metadata": {},
   "source": [
    "By sampleing to the latent feild we can decode the sampeled values and create a \"new\" number."
   ]
  },
  {
   "cell_type": "code",
   "execution_count": 11,
   "metadata": {},
   "outputs": [
    {
     "data": {
      "text/plain": [
       "<matplotlib.image.AxesImage at 0x7fe21d155d50>"
      ]
     },
     "execution_count": 11,
     "metadata": {},
     "output_type": "execute_result"
    },
    {
     "data": {
      "image/png": "[encoded data removed]",
      "text/plain": [
       "<Figure size 432x288 with 1 Axes>"
      ]
     },
     "metadata": {
      "needs_background": "light"
     },
     "output_type": "display_data"
    }
   ],
   "source": [
    "sample = torch.randn(64, 20).to(device)\n",
    "sample = model.decode(sample).cpu()\n",
    "\n",
    "plt.imshow(sample.view(64, 1, 28, 28)[0,0].detach().numpy())"
   ]
  },
  {
   "cell_type": "markdown",
   "metadata": {},
   "source": [
    "## Image reconstruction"
   ]
  },
  {
   "cell_type": "markdown",
   "metadata": {},
   "source": [
    "Fist we take a image and \"remove part of it\""
   ]
  },
  {
   "cell_type": "code",
   "execution_count": 12,
   "metadata": {},
   "outputs": [
    {
     "data": {
      "text/plain": [
       "torch.Size([64, 28, 28])"
      ]
     },
     "execution_count": 12,
     "metadata": {},
     "output_type": "execute_result"
    },
    {
     "data": {
      "image/png": "[encoded data removed]",
      "text/plain": [
       "<Figure size 432x288 with 1 Axes>"
      ]
     },
     "metadata": {
      "needs_background": "light"
     },
     "output_type": "display_data"
    }
   ],
   "source": [
    "test_img = test_loader.dataset.data[:64].clone()\n",
    "plt.imshow(test_img[0].numpy())\n",
    "test_img.size()"
   ]
  },
  {
   "cell_type": "code",
   "execution_count": 13,
   "metadata": {},
   "outputs": [
    {
     "data": {
      "text/plain": [
       "<matplotlib.image.AxesImage at 0x7fe21d2b2290>"
      ]
     },
     "execution_count": 13,
     "metadata": {},
     "output_type": "execute_result"
    },
    {
     "data": {
      "image/png": "[encoded data removed]",
      "text/plain": [
       "<Figure size 432x288 with 1 Axes>"
      ]
     },
     "metadata": {
      "needs_background": "light"
     },
     "output_type": "display_data"
    }
   ],
   "source": [
    "plt.imshow(test_img[40].numpy())"
   ]
  },
  {
   "cell_type": "code",
   "execution_count": 14,
   "metadata": {},
   "outputs": [],
   "source": [
    "re_test_img = test_img[:,None,:,:].clone().float()\n",
    "\n",
    "for i in range(args.batch_size):\n",
    "    rand_idx = torch.randn(2)*10\n",
    "    #print(rand_idx)\n",
    "    re_test_img[i,0,int(abs(rand_idx[0])):int(abs(rand_idx[0]))+10, int(abs(rand_idx[1])):int(abs(rand_idx[1]))+10] = 255"
   ]
  },
  {
   "cell_type": "code",
   "execution_count": 15,
   "metadata": {},
   "outputs": [
    {
     "data": {
      "text/plain": [
       "<matplotlib.image.AxesImage at 0x7fe21d212e10>"
      ]
     },
     "execution_count": 15,
     "metadata": {},
     "output_type": "execute_result"
    },
    {
     "data": {
      "image/png": "[encoded data removed]",
      "text/plain": [
       "<Figure size 432x288 with 1 Axes>"
      ]
     },
     "metadata": {
      "needs_background": "light"
     },
     "output_type": "display_data"
    }
   ],
   "source": [
    "plt.imshow(re_test_img[0,0].numpy())"
   ]
  },
  {
   "cell_type": "code",
   "execution_count": 16,
   "metadata": {},
   "outputs": [
    {
     "data": {
      "text/plain": [
       "<matplotlib.image.AxesImage at 0x7fe21d286dd0>"
      ]
     },
     "execution_count": 16,
     "metadata": {},
     "output_type": "execute_result"
    },
    {
     "data": {
      "image/png": "[encoded data removed]",
      "text/plain": [
       "<Figure size 432x288 with 1 Axes>"
      ]
     },
     "metadata": {
      "needs_background": "light"
     },
     "output_type": "display_data"
    }
   ],
   "source": [
    "plt.imshow(re_test_img[25,0].numpy())"
   ]
  },
  {
   "cell_type": "code",
   "execution_count": 17,
   "metadata": {},
   "outputs": [
    {
     "data": {
      "text/plain": [
       "'torch.FloatTensor'"
      ]
     },
     "execution_count": 17,
     "metadata": {},
     "output_type": "execute_result"
    }
   ],
   "source": [
    "re_test_img.type()"
   ]
  },
  {
   "cell_type": "markdown",
   "metadata": {},
   "source": [
    "### Encode image\n",
    "To get latent representation of this image. "
   ]
  },
  {
   "cell_type": "code",
   "execution_count": 18,
   "metadata": {},
   "outputs": [],
   "source": [
    "re_test_loader = torch.utils.data.DataLoader(\n",
    "        re_test_img,\n",
    "        batch_size=args.batch_size, shuffle=False, \n",
    "        **kwargs)"
   ]
  },
  {
   "cell_type": "code",
   "execution_count": 19,
   "metadata": {},
   "outputs": [],
   "source": [
    "model.eval()\n",
    "\n",
    "with torch.no_grad():\n",
    "    data = re_test_loader.dataset.data.to(device)\n",
    "    recon_batch, mu, logvar = model(data)"
   ]
  },
  {
   "cell_type": "code",
   "execution_count": 20,
   "metadata": {},
   "outputs": [
    {
     "data": {
      "text/plain": [
       "<matplotlib.image.AxesImage at 0x7fe21d179dd0>"
      ]
     },
     "execution_count": 20,
     "metadata": {},
     "output_type": "execute_result"
    },
    {
     "data": {
      "image/png": "[encoded data removed]",
      "text/plain": [
       "<Figure size 432x288 with 1 Axes>"
      ]
     },
     "metadata": {
      "needs_background": "light"
     },
     "output_type": "display_data"
    }
   ],
   "source": [
    "plt.imshow(recon_batch.view(64, 1, 28, 28)[0,0].detach().numpy())"
   ]
  },
  {
   "cell_type": "code",
   "execution_count": 21,
   "metadata": {},
   "outputs": [
    {
     "data": {
      "text/plain": [
       "<matplotlib.image.AxesImage at 0x7fe21c119f90>"
      ]
     },
     "execution_count": 21,
     "metadata": {},
     "output_type": "execute_result"
    },
    {
     "data": {
      "image/png": "[encoded data removed]",
      "text/plain": [
       "<Figure size 432x288 with 1 Axes>"
      ]
     },
     "metadata": {
      "needs_background": "light"
     },
     "output_type": "display_data"
    }
   ],
   "source": [
    "plt.imshow(recon_batch.view(64, 1, 28, 28)[25,0].detach().numpy())"
   ]
  },
  {
   "cell_type": "markdown",
   "metadata": {},
   "source": [
    "The reconstructed image is relatively good. We try to find the \"bad\" part of the image by taking abs(reconstructed-original)."
   ]
  },
  {
   "cell_type": "markdown",
   "metadata": {},
   "source": [
    "### Find bad part"
   ]
  },
  {
   "cell_type": "code",
   "execution_count": 22,
   "metadata": {},
   "outputs": [
    {
     "data": {
      "text/plain": [
       "<matplotlib.image.AxesImage at 0x7fe21c088790>"
      ]
     },
     "execution_count": 22,
     "metadata": {},
     "output_type": "execute_result"
    },
    {
     "data": {
      "image/png": "[encoded data removed]",
      "text/plain": [
       "<Figure size 432x288 with 1 Axes>"
      ]
     },
     "metadata": {
      "needs_background": "light"
     },
     "output_type": "display_data"
    }
   ],
   "source": [
    "plt.imshow(abs(re_test_img[0,0].numpy()-255*recon_batch.view(64, 1, 28, 28)[0,0].detach().numpy()))"
   ]
  },
  {
   "cell_type": "code",
   "execution_count": 23,
   "metadata": {},
   "outputs": [
    {
     "data": {
      "text/plain": [
       "<matplotlib.image.AxesImage at 0x7fe21c06ec10>"
      ]
     },
     "execution_count": 23,
     "metadata": {},
     "output_type": "execute_result"
    },
    {
     "data": {
      "image/png": "[encoded data removed]",
      "text/plain": [
       "<Figure size 432x288 with 1 Axes>"
      ]
     },
     "metadata": {
      "needs_background": "light"
     },
     "output_type": "display_data"
    }
   ],
   "source": [
    "plt.imshow(abs(re_test_img[25,0].numpy()-255*recon_batch.view(64, 1, 28, 28)[25,0].detach().numpy()))"
   ]
  },
  {
   "cell_type": "markdown",
   "metadata": {},
   "source": [
    "As seen above there are room for improvments."
   ]
  },
  {
   "cell_type": "markdown",
   "metadata": {},
   "source": [
    "### Experiments  "
   ]
  },
  {
   "cell_type": "code",
   "execution_count": 24,
   "metadata": {},
   "outputs": [],
   "source": [
    "re_test_img = test_img[:,None,:,:].clone().float()\n",
    "re_test_img[:,:,:,:] = 0\n",
    "re_test_img[0,0,0:5,0:5] = 255"
   ]
  },
  {
   "cell_type": "code",
   "execution_count": 25,
   "metadata": {},
   "outputs": [
    {
     "data": {
      "image/png": "[encoded data removed]",
      "text/plain": [
       "<Figure size 432x288 with 1 Axes>"
      ]
     },
     "metadata": {
      "needs_background": "light"
     },
     "output_type": "display_data"
    }
   ],
   "source": [
    "plt.imshow(re_test_img[0,0].numpy())\n",
    "\n",
    "re_test_loader = torch.utils.data.DataLoader(\n",
    "        re_test_img,\n",
    "        batch_size=args.batch_size, shuffle=False, \n",
    "        **kwargs)"
   ]
  },
  {
   "cell_type": "code",
   "execution_count": 26,
   "metadata": {},
   "outputs": [],
   "source": [
    "model.eval()\n",
    "\n",
    "with torch.no_grad():\n",
    "    data = re_test_loader.dataset.data.to(device)\n",
    "    recon_batch, mu, logvar = model(data)"
   ]
  },
  {
   "cell_type": "code",
   "execution_count": 27,
   "metadata": {},
   "outputs": [
    {
     "data": {
      "text/plain": [
       "<matplotlib.image.AxesImage at 0x7fe2141a2a10>"
      ]
     },
     "execution_count": 27,
     "metadata": {},
     "output_type": "execute_result"
    },
    {
     "data": {
      "image/png": "[encoded data removed]",
      "text/plain": [
       "<Figure size 432x288 with 1 Axes>"
      ]
     },
     "metadata": {
      "needs_background": "light"
     },
     "output_type": "display_data"
    }
   ],
   "source": [
    "plt.imshow(recon_batch.view(64, 1, 28, 28)[0,0].detach().numpy())"
   ]
  }
 ],
 "metadata": {
  "kernelspec": {
   "display_name": "Python 3",
   "language": "python",
   "name": "python3"
  },
  "language_info": {
   "codemirror_mode": {
    "name": "ipython",
    "version": 3
   },
   "file_extension": ".py",
   "mimetype": "text/x-python",
   "name": "python",
   "nbconvert_exporter": "python",
   "pygments_lexer": "ipython3",
   "version": "3.7.6"
  }
 },
 "nbformat": 4,
 "nbformat_minor": 2
}
